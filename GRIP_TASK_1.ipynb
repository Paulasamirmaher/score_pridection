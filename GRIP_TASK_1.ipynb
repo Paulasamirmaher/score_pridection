{
 "cells": [
  {
   "cell_type": "markdown",
   "id": "44eef552",
   "metadata": {},
   "source": [
    "## importings "
   ]
  },
  {
   "cell_type": "code",
   "execution_count": 1,
   "id": "2dd3147c",
   "metadata": {},
   "outputs": [],
   "source": [
    "import pandas as pd\n",
    "import matplotlib.pyplot as plt\n",
    "import numpy as np\n",
    "from sklearn.model_selection import train_test_split\n",
    "from sklearn.linear_model import LinearRegression\n",
    "from sklearn.metrics import mean_absolute_error,r2_score,mean_squared_error"
   ]
  },
  {
   "cell_type": "markdown",
   "id": "73db4f6d",
   "metadata": {},
   "source": [
    "## load the dataset"
   ]
  },
  {
   "cell_type": "code",
   "execution_count": 2,
   "id": "7a80f2be",
   "metadata": {},
   "outputs": [],
   "source": [
    "url='http://bit.ly/w-data'\n",
    "df=pd.read_csv(url)"
   ]
  },
  {
   "cell_type": "code",
   "execution_count": 3,
   "id": "e42c2d95",
   "metadata": {
    "scrolled": false
   },
   "outputs": [
    {
     "data": {
      "text/html": [
       "<div>\n",
       "<style scoped>\n",
       "    .dataframe tbody tr th:only-of-type {\n",
       "        vertical-align: middle;\n",
       "    }\n",
       "\n",
       "    .dataframe tbody tr th {\n",
       "        vertical-align: top;\n",
       "    }\n",
       "\n",
       "    .dataframe thead th {\n",
       "        text-align: right;\n",
       "    }\n",
       "</style>\n",
       "<table border=\"1\" class=\"dataframe\">\n",
       "  <thead>\n",
       "    <tr style=\"text-align: right;\">\n",
       "      <th></th>\n",
       "      <th>Hours</th>\n",
       "      <th>Scores</th>\n",
       "    </tr>\n",
       "  </thead>\n",
       "  <tbody>\n",
       "    <tr>\n",
       "      <th>0</th>\n",
       "      <td>2.5</td>\n",
       "      <td>21</td>\n",
       "    </tr>\n",
       "    <tr>\n",
       "      <th>1</th>\n",
       "      <td>5.1</td>\n",
       "      <td>47</td>\n",
       "    </tr>\n",
       "    <tr>\n",
       "      <th>2</th>\n",
       "      <td>3.2</td>\n",
       "      <td>27</td>\n",
       "    </tr>\n",
       "    <tr>\n",
       "      <th>3</th>\n",
       "      <td>8.5</td>\n",
       "      <td>75</td>\n",
       "    </tr>\n",
       "    <tr>\n",
       "      <th>4</th>\n",
       "      <td>3.5</td>\n",
       "      <td>30</td>\n",
       "    </tr>\n",
       "  </tbody>\n",
       "</table>\n",
       "</div>"
      ],
      "text/plain": [
       "   Hours  Scores\n",
       "0    2.5      21\n",
       "1    5.1      47\n",
       "2    3.2      27\n",
       "3    8.5      75\n",
       "4    3.5      30"
      ]
     },
     "execution_count": 3,
     "metadata": {},
     "output_type": "execute_result"
    }
   ],
   "source": [
    "# show the data \n",
    "df.head(5)"
   ]
  },
  {
   "cell_type": "markdown",
   "id": "a4a25c27",
   "metadata": {},
   "source": [
    "## Drawing a scatter plot to show the relation between the two columns "
   ]
  },
  {
   "cell_type": "code",
   "execution_count": 4,
   "id": "bea5b401",
   "metadata": {},
   "outputs": [
    {
     "data": {
      "text/plain": [
       "<function matplotlib.pyplot.show(close=None, block=None)>"
      ]
     },
     "execution_count": 4,
     "metadata": {},
     "output_type": "execute_result"
    },
    {
     "data": {
      "image/png": "[encoded data removed]",
      "text/plain": [
       "<Figure size 640x480 with 1 Axes>"
      ]
     },
     "metadata": {},
     "output_type": "display_data"
    }
   ],
   "source": [
    "plt.scatter(df.Hours,df.Scores)\n",
    "plt.xlabel('The Hours of Studying')\n",
    "plt.ylabel('The Score')\n",
    "plt.title('Relation Between Hours of Studying and Scores')\n",
    "plt.show"
   ]
  },
  {
   "cell_type": "markdown",
   "id": "ab715750",
   "metadata": {},
   "source": [
    "## From the graph above,there is postive linear relation between Hours of studying and the precentage score"
   ]
  },
  {
   "cell_type": "markdown",
   "id": "664d5024",
   "metadata": {},
   "source": [
    "# "
   ]
  },
  {
   "cell_type": "markdown",
   "id": "00be68d1",
   "metadata": {},
   "source": [
    "# "
   ]
  },
  {
   "cell_type": "markdown",
   "id": "c6f01e49",
   "metadata": {},
   "source": [
    "## Preparing the data"
   ]
  },
  {
   "cell_type": "markdown",
   "id": "445e9c70",
   "metadata": {},
   "source": [
    "### now, split the data into attributes and labels"
   ]
  },
  {
   "cell_type": "code",
   "execution_count": 5,
   "id": "3041c9fc",
   "metadata": {},
   "outputs": [],
   "source": [
    "x=df.iloc[:,:-1].values\n",
    "y=df.iloc[:,1].values"
   ]
  },
  {
   "cell_type": "markdown",
   "id": "ce95beb3",
   "metadata": {},
   "source": [
    "###    Now, split the data into train and test "
   ]
  },
  {
   "cell_type": "code",
   "execution_count": 6,
   "id": "e4320e3f",
   "metadata": {},
   "outputs": [],
   "source": [
    "x_tarin , x_test , y_train , y_test =train_test_split(x,y,random_state=1,test_size=0.2)"
   ]
  },
  {
   "cell_type": "code",
   "execution_count": 7,
   "id": "d732f5be",
   "metadata": {},
   "outputs": [
    {
     "name": "stdout",
     "output_type": "stream",
     "text": [
      "The X_train shape (20, 1)\n",
      "The X_test shape (5, 1)\n",
      "The y_train shape (20,)\n",
      "The y_test shape (5, 1)\n"
     ]
    }
   ],
   "source": [
    "print('The X_train shape',x_tarin.shape)\n",
    "print('The X_test shape',x_test.shape)\n",
    "print('The y_train shape',y_train.shape)\n",
    "print('The y_test shape',x_test.shape)"
   ]
  },
  {
   "cell_type": "markdown",
   "id": "4b52f1be",
   "metadata": {},
   "source": [
    "# "
   ]
  },
  {
   "cell_type": "markdown",
   "id": "055631cd",
   "metadata": {},
   "source": [
    "# Training the Alogrithm "
   ]
  },
  {
   "cell_type": "code",
   "execution_count": 8,
   "id": "21250e24",
   "metadata": {},
   "outputs": [],
   "source": [
    "lr=LinearRegression()"
   ]
  },
  {
   "cell_type": "code",
   "execution_count": 9,
   "id": "ebc47369",
   "metadata": {},
   "outputs": [
    {
     "data": {
      "text/plain": [
       "LinearRegression()"
      ]
     },
     "execution_count": 9,
     "metadata": {},
     "output_type": "execute_result"
    }
   ],
   "source": [
    "lr.fit(x_tarin,y_train)"
   ]
  },
  {
   "cell_type": "code",
   "execution_count": 10,
   "id": "7b1b71c5",
   "metadata": {},
   "outputs": [
    {
     "data": {
      "text/plain": [
       "<function matplotlib.pyplot.show(close=None, block=None)>"
      ]
     },
     "execution_count": 10,
     "metadata": {},
     "output_type": "execute_result"
    },
    {
     "data": {
      "image/png": "[encoded data removed]",
      "text/plain": [
       "<Figure size 640x480 with 1 Axes>"
      ]
     },
     "metadata": {},
     "output_type": "display_data"
    }
   ],
   "source": [
    "line=lr.coef_*x+lr.intercept_\n",
    "plt.scatter(x,y)\n",
    "plt.plot(x,line)\n",
    "plt.xlabel('The hours of studying')\n",
    "plt.ylabel('The score')\n",
    "plt.title('Relation between hours of studying and scores')\n",
    "plt.Figure(figsize=[6,6])\n",
    "plt.show"
   ]
  },
  {
   "cell_type": "markdown",
   "id": "421409ad",
   "metadata": {},
   "source": [
    "## Prediction "
   ]
  },
  {
   "cell_type": "code",
   "execution_count": 11,
   "id": "b45b682e",
   "metadata": {},
   "outputs": [],
   "source": [
    "y_pred=lr.predict(x_test)"
   ]
  },
  {
   "cell_type": "markdown",
   "id": "57f0cfec",
   "metadata": {},
   "source": [
    "#### compare Actual Scores with predicted"
   ]
  },
  {
   "cell_type": "code",
   "execution_count": 12,
   "id": "ea758687",
   "metadata": {},
   "outputs": [
    {
     "data": {
      "text/html": [
       "<div>\n",
       "<style scoped>\n",
       "    .dataframe tbody tr th:only-of-type {\n",
       "        vertical-align: middle;\n",
       "    }\n",
       "\n",
       "    .dataframe tbody tr th {\n",
       "        vertical-align: top;\n",
       "    }\n",
       "\n",
       "    .dataframe thead th {\n",
       "        text-align: right;\n",
       "    }\n",
       "</style>\n",
       "<table border=\"1\" class=\"dataframe\">\n",
       "  <thead>\n",
       "    <tr style=\"text-align: right;\">\n",
       "      <th></th>\n",
       "      <th>Predicted</th>\n",
       "      <th>Actual</th>\n",
       "    </tr>\n",
       "  </thead>\n",
       "  <tbody>\n",
       "    <tr>\n",
       "      <th>0</th>\n",
       "      <td>9.970262</td>\n",
       "      <td>17</td>\n",
       "    </tr>\n",
       "    <tr>\n",
       "      <th>1</th>\n",
       "      <td>32.984700</td>\n",
       "      <td>42</td>\n",
       "    </tr>\n",
       "    <tr>\n",
       "      <th>2</th>\n",
       "      <td>18.339148</td>\n",
       "      <td>24</td>\n",
       "    </tr>\n",
       "    <tr>\n",
       "      <th>3</th>\n",
       "      <td>87.382463</td>\n",
       "      <td>75</td>\n",
       "    </tr>\n",
       "    <tr>\n",
       "      <th>4</th>\n",
       "      <td>48.676362</td>\n",
       "      <td>54</td>\n",
       "    </tr>\n",
       "  </tbody>\n",
       "</table>\n",
       "</div>"
      ],
      "text/plain": [
       "   Predicted  Actual\n",
       "0   9.970262      17\n",
       "1  32.984700      42\n",
       "2  18.339148      24\n",
       "3  87.382463      75\n",
       "4  48.676362      54"
      ]
     },
     "execution_count": 12,
     "metadata": {},
     "output_type": "execute_result"
    }
   ],
   "source": [
    "t_vs_a=pd.DataFrame({'Predicted':y_pred,'Actual':y_test})\n",
    "t_vs_a"
   ]
  },
  {
   "cell_type": "code",
   "execution_count": 13,
   "id": "eea4e7a8",
   "metadata": {},
   "outputs": [
    {
     "name": "stdout",
     "output_type": "stream",
     "text": [
      "the mean absolute error is 7.882398086270432\n",
      "The mean squared error 68.88092074277635\n"
     ]
    }
   ],
   "source": [
    "print('the mean absolute error is',mean_absolute_error(y_test,y_pred))\n",
    "print('The mean squared error',mean_squared_error(y_test,y_pred))"
   ]
  },
  {
   "cell_type": "markdown",
   "id": "be51a78e",
   "metadata": {},
   "source": [
    "# Evaluating the model"
   ]
  },
  {
   "cell_type": "code",
   "execution_count": 20,
   "id": "42c1f3c6",
   "metadata": {},
   "outputs": [
    {
     "name": "stdout",
     "output_type": "stream",
     "text": [
      "The predicted score based on the number of hours is   95.22829438402952\n"
     ]
    }
   ],
   "source": [
    "x_new=np.array([[9.25]])\n",
    "y_pred_2=lr.predict(x_new)\n",
    "print('The predicted score based on the number of hours is  ',float(y_pred_2))\n"
   ]
  },
  {
   "cell_type": "markdown",
   "id": "d2c886d2",
   "metadata": {},
   "source": [
    "## without train test split "
   ]
  },
  {
   "cell_type": "code",
   "execution_count": 15,
   "id": "56d9d051",
   "metadata": {},
   "outputs": [],
   "source": [
    "# without train test split\n",
    "model=LinearRegression()"
   ]
  },
  {
   "cell_type": "code",
   "execution_count": 17,
   "id": "8c0bede9",
   "metadata": {},
   "outputs": [
    {
     "data": {
      "text/plain": [
       "LinearRegression()"
      ]
     },
     "execution_count": 17,
     "metadata": {},
     "output_type": "execute_result"
    }
   ],
   "source": [
    "model.fit(x,y)"
   ]
  },
  {
   "cell_type": "code",
   "execution_count": 21,
   "id": "be552511",
   "metadata": {},
   "outputs": [
    {
     "name": "stdout",
     "output_type": "stream",
     "text": [
      "The predicted score based on the number of hours is   92.9098547701573\n"
     ]
    }
   ],
   "source": [
    "y_pred_3=model.predict(x_new)\n",
    "print('The predicted score based on the number of hours is  ',float(y_pred_3))"
   ]
  },
  {
   "cell_type": "code",
   "execution_count": null,
   "id": "3308bd44",
   "metadata": {},
   "outputs": [],
   "source": []
  }
 ],
 "metadata": {
  "kernelspec": {
   "display_name": "Python 3 (ipykernel)",
   "language": "python",
   "name": "python3"
  },
  "language_info": {
   "codemirror_mode": {
    "name": "ipython",
    "version": 3
   },
   "file_extension": ".py",
   "mimetype": "text/x-python",
   "name": "python",
   "nbconvert_exporter": "python",
   "pygments_lexer": "ipython3",
   "version": "3.9.13"
  }
 },
 "nbformat": 4,
 "nbformat_minor": 5
}
